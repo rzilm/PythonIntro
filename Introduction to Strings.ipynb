{
 "cells": [
  {
   "cell_type": "markdown",
   "metadata": {},
   "source": [
    "# `Strings`\n",
    "\n",
    "In any programming language, a `String` is a group of characters all stored in the same data space. Usually a string is indicated by quotation marks around the entire string.  For example, the following are all examples of `Strings`: \n",
    "\n",
    ">`\"Hello World\"`\n",
    "\n",
    ">`\"I am the very model of a modern major general.\"`\n",
    "\n",
    ">`\"//'*ads123e21a@#1Eñ¿\"`\n",
    "\n",
    "`Strings` can be stored inside a field (or variable).  In **Python** this storage is relatively simple.  Just name the variable, and assign it a value:"
   ]
  },
  {
   "cell_type": "code",
   "execution_count": 11,
   "metadata": {
    "collapsed": true,
    "scrolled": true
   },
   "outputs": [],
   "source": [
    "name = \"Clark Kent\"\n",
    "age  = \"38\"\n",
    "secret = \"From another planet called Krypton. Due to the radiation from our yellow sun, can do amazing feats like fly, bend steel, and see through walls\""
   ]
  },
  {
   "cell_type": "markdown",
   "metadata": {},
   "source": [
    "`Strings` are used frequently in programming, as they are the end result of any program that displays information to the user.  With this in mind, it's very important to understand how to utilize and manipulate `Strings`.\n",
    "\n",
    "---\n",
    "\n",
    "## Getting and returning `Strings` to a user\n",
    "\n",
    "A couple of useful tools to communicate with a user are built into Python.  These are the `input()` and `print()` functions.  We'll talk more about functions later.\n",
    "\n",
    "* `input()` allows us to receive information from the user, as a `String`. \n",
    "\n",
    "* `print()` allows us to send information back to the console, as a `String`.\n"
   ]
  },
  {
   "cell_type": "code",
   "execution_count": 1,
   "metadata": {},
   "outputs": [
    {
     "name": "stdout",
     "output_type": "stream",
     "text": [
      "What is your name? Mr. Zilm\n",
      "Hello, Mr. Zilm.\n"
     ]
    }
   ],
   "source": [
    "name = input(\"What is your name? \")\n",
    "print(\"Hello, \" + name + \".\")"
   ]
  },
  {
   "cell_type": "markdown",
   "metadata": {},
   "source": [
    "<sup>***Notice that the `input()` and `print()` functions both have `Strings` inside the parenthesis after their call.  These `Strings` are what the program will print out to the console.***</sup>\n",
    "\n",
    "---\n",
    "\n",
    "adfd"
   ]
  },
  {
   "cell_type": "code",
   "execution_count": null,
   "metadata": {
    "collapsed": true
   },
   "outputs": [],
   "source": []
  }
 ],
 "metadata": {
  "kernelspec": {
   "display_name": "Python 3",
   "language": "python",
   "name": "python3"
  },
  "language_info": {
   "codemirror_mode": {
    "name": "ipython",
    "version": 3
   },
   "file_extension": ".py",
   "mimetype": "text/x-python",
   "name": "python",
   "nbconvert_exporter": "python",
   "pygments_lexer": "ipython3",
   "version": "3.6.2"
  }
 },
 "nbformat": 4,
 "nbformat_minor": 2
}
